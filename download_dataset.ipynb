{
 "cells": [
  {
   "cell_type": "code",
   "execution_count": null,
   "metadata": {
    "collapsed": true,
    "pycharm": {
     "name": "#%%\n"
    }
   },
   "outputs": [],
   "source": [
    "import json\n",
    "from selenium import webdriver\n",
    "import os\n",
    "from selenium.common.exceptions import TimeoutException, WebDriverException"
   ]
  },
  {
   "cell_type": "code",
   "execution_count": null,
   "outputs": [],
   "source": [
    "root_dir = os.path.dirname(os.path.abspath(__file__))"
   ],
   "metadata": {
    "collapsed": false,
    "pycharm": {
     "name": "#%%\n"
    }
   }
  },
  {
   "cell_type": "code",
   "execution_count": null,
   "outputs": [],
   "source": [
    "mobile_emulation = {\"deviceName\": \"iPhone 6/7/8\"}\n",
    "chrome_options = webdriver.ChromeOptions()\n",
    "chrome_options.add_experimental_option(\"mobileEmulation\", mobile_emulation)\n",
    "driver = webdriver.Chrome(executable_path=os.path.join(root_dir, '\\config\\chromedriver.exe'), desired_capabilities=chrome_options.to_capabilities())\n",
    "driver.set_page_load_timeout(30)"
   ],
   "metadata": {
    "collapsed": false,
    "pycharm": {
     "name": "#%%\n"
    }
   }
  },
  {
   "cell_type": "code",
   "execution_count": null,
   "outputs": [],
   "source": [
    "with open(os.path.join(root_dir,'config/urls.json'), 'r') as fp:\n",
    "   list_url = json.load(fp)"
   ],
   "metadata": {
    "collapsed": false,
    "pycharm": {
     "name": "#%%\n"
    }
   }
  },
  {
   "cell_type": "code",
   "execution_count": null,
   "outputs": [],
   "source": [
    "for url in list_url:\n",
    "    name_screenshot = url.split('.')[0]\n",
    "    if not os.path.exists(f'images/{name_screenshot}.png'):\n",
    "        try:\n",
    "            print(f'try {url}')\n",
    "            driver.get(f'https://{url}')\n",
    "            print(f'{url} ok')\n",
    "        except (TimeoutException, WebDriverException):\n",
    "            continue\n",
    "        driver.save_screenshot(f'images/{name_screenshot}.png')\n",
    "    else:\n",
    "        print(f'{name_screenshot} is already exists')"
   ],
   "metadata": {
    "collapsed": false,
    "pycharm": {
     "name": "#%%\n"
    }
   }
  }
 ],
 "metadata": {
  "kernelspec": {
   "display_name": "Python 3",
   "language": "python",
   "name": "python3"
  },
  "language_info": {
   "codemirror_mode": {
    "name": "ipython",
    "version": 2
   },
   "file_extension": ".py",
   "mimetype": "text/x-python",
   "name": "python",
   "nbconvert_exporter": "python",
   "pygments_lexer": "ipython2",
   "version": "2.7.6"
  }
 },
 "nbformat": 4,
 "nbformat_minor": 0
}